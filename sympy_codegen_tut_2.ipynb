{
 "cells": [
  {
   "cell_type": "markdown",
   "metadata": {},
   "source": [
    "https://www.youtube.com/watch?v=5jzIVp6bTy0\n",
    "\n",
    "Slightly beyond 1:30:00\n",
    "\n",
    "- use a code printer to generate c code\n",
    "- use an array compatible assignment to print c code\n",
    "- subclass the printer class and modify it\n",
    "- utilize cse elimination"
   ]
  },
  {
   "cell_type": "code",
   "execution_count": 1,
   "metadata": {},
   "outputs": [],
   "source": [
    "import sympy as sym"
   ]
  },
  {
   "cell_type": "code",
   "execution_count": 21,
   "metadata": {},
   "outputs": [],
   "source": [
    "sym.init_printing()"
   ]
  },
  {
   "cell_type": "markdown",
   "metadata": {},
   "source": [
    "Here's some junky ODEs stored as a matrix operator"
   ]
  },
  {
   "cell_type": "code",
   "execution_count": 28,
   "metadata": {},
   "outputs": [],
   "source": [
    "y0, y1, y2, y3, y4 = sym.symbols('y0 y1 y2 y3 y4')\n",
    "\n",
    "state = sym.Matrix([y0, y1, y2, y3, y4])\n",
    "\n",
    "lhs_odes = sym.Matrix([\n",
    "    -25 * y0 * y0 + y3,\n",
    "    0.1 * y2 * y1 + y2 - 2*y4,\n",
    "    3 * y4 + y0 * y1 -5,\n",
    "    8 - y2 * y3,\n",
    "    y0 - y4**3\n",
    "])"
   ]
  },
  {
   "cell_type": "markdown",
   "metadata": {},
   "source": [
    "Now we want to apply this operator to a state vector (matrix in sympy, array in C99), and store the result. Here's how we do it using a MatrixSymbol and a C99Printer"
   ]
  },
  {
   "cell_type": "code",
   "execution_count": 29,
   "metadata": {},
   "outputs": [],
   "source": [
    "rhs_result = sym.MatrixSymbol('rhs_result', 5, 1)"
   ]
  },
  {
   "cell_type": "code",
   "execution_count": 30,
   "metadata": {},
   "outputs": [
    {
     "name": "stdout",
     "output_type": "stream",
     "text": [
      "rhs_result\n"
     ]
    }
   ],
   "source": [
    "print(rhs_result)"
   ]
  },
  {
   "cell_type": "code",
   "execution_count": 31,
   "metadata": {},
   "outputs": [
    {
     "name": "stdout",
     "output_type": "stream",
     "text": [
      "rhs_result[0, 0]\n"
     ]
    }
   ],
   "source": [
    "print(rhs_result[0])"
   ]
  },
  {
   "cell_type": "code",
   "execution_count": 32,
   "metadata": {},
   "outputs": [],
   "source": [
    "from sympy.printing.ccode import C99CodePrinter"
   ]
  },
  {
   "cell_type": "code",
   "execution_count": 33,
   "metadata": {},
   "outputs": [],
   "source": [
    "printer = C99CodePrinter()"
   ]
  },
  {
   "cell_type": "code",
   "execution_count": 34,
   "metadata": {},
   "outputs": [
    {
     "name": "stdout",
     "output_type": "stream",
     "text": [
      "rhs_result[0] = -25*pow(y0, 2) + y3;\n",
      "rhs_result[1] = 0.10000000000000001*y1*y2 + y2 - 2*y4;\n",
      "rhs_result[2] = y0*y1 + 3*y4 - 5;\n",
      "rhs_result[3] = -y2*y3 + 8;\n",
      "rhs_result[4] = y0 - pow(y4, 3);\n"
     ]
    }
   ],
   "source": [
    "print(printer.doprint(lhs_odes, assign_to=rhs_result))"
   ]
  },
  {
   "cell_type": "markdown",
   "metadata": {},
   "source": [
    "Let's do the same for the jacobian of this thing, because why not. Note how it automatically handles 2d arrays well."
   ]
  },
  {
   "cell_type": "code",
   "execution_count": 36,
   "metadata": {},
   "outputs": [
    {
     "name": "stdout",
     "output_type": "stream",
     "text": [
      "jac_result[0] = -50*y0;\n",
      "jac_result[1] = 0;\n",
      "jac_result[2] = 0;\n",
      "jac_result[3] = 1;\n",
      "jac_result[4] = 0;\n",
      "jac_result[5] = 0;\n",
      "jac_result[6] = 0.10000000000000001*y2;\n",
      "jac_result[7] = 0.10000000000000001*y1 + 1;\n",
      "jac_result[8] = 0;\n",
      "jac_result[9] = -2;\n",
      "jac_result[10] = y1;\n",
      "jac_result[11] = y0;\n",
      "jac_result[12] = 0;\n",
      "jac_result[13] = 0;\n",
      "jac_result[14] = 3;\n",
      "jac_result[15] = 0;\n",
      "jac_result[16] = 0;\n",
      "jac_result[17] = -y3;\n",
      "jac_result[18] = -y2;\n",
      "jac_result[19] = 0;\n",
      "jac_result[20] = 1;\n",
      "jac_result[21] = 0;\n",
      "jac_result[22] = 0;\n",
      "jac_result[23] = 0;\n",
      "jac_result[24] = -3*pow(y4, 2);\n"
     ]
    }
   ],
   "source": [
    "lhs_odes_jac = lhs_odes.jacobian(state)\n",
    "\n",
    "jac_result = sym.MatrixSymbol('jac_result', *lhs_odes_jac.shape)\n",
    "print(printer.doprint(lhs_odes_jac, assign_to=jac_result))"
   ]
  },
  {
   "cell_type": "markdown",
   "metadata": {},
   "source": [
    "All code printers can be customized. Type the following and press tab:\n",
    "\n",
    "C99CodePrinter._print\n",
    "\n",
    "You get a list of all possible sympy objects you might want to print"
   ]
  },
  {
   "cell_type": "code",
   "execution_count": 38,
   "metadata": {},
   "outputs": [
    {
     "data": {
      "text/plain": [
       "<function sympy.printing.printer.Printer._print(self, expr, **kwargs)>"
      ]
     },
     "execution_count": 38,
     "metadata": {},
     "output_type": "execute_result"
    }
   ],
   "source": [
    "C99CodePrinter._print"
   ]
  },
  {
   "cell_type": "markdown",
   "metadata": {},
   "source": [
    "We can look at the source code for them by using ??"
   ]
  },
  {
   "cell_type": "code",
   "execution_count": 40,
   "metadata": {},
   "outputs": [
    {
     "data": {
      "text/plain": [
       "\u001b[1;31mSignature:\u001b[0m \u001b[0mC99CodePrinter\u001b[0m\u001b[1;33m.\u001b[0m\u001b[0m_print_Symbol\u001b[0m\u001b[1;33m(\u001b[0m\u001b[0mself\u001b[0m\u001b[1;33m,\u001b[0m \u001b[0mexpr\u001b[0m\u001b[1;33m)\u001b[0m\u001b[1;33m\u001b[0m\u001b[1;33m\u001b[0m\u001b[0m\n",
       "\u001b[1;31mDocstring:\u001b[0m <no docstring>\n",
       "\u001b[1;31mSource:\u001b[0m   \n",
       "    \u001b[1;32mdef\u001b[0m \u001b[0m_print_Symbol\u001b[0m\u001b[1;33m(\u001b[0m\u001b[0mself\u001b[0m\u001b[1;33m,\u001b[0m \u001b[0mexpr\u001b[0m\u001b[1;33m)\u001b[0m\u001b[1;33m:\u001b[0m\u001b[1;33m\n",
       "\u001b[0m        \u001b[0mname\u001b[0m \u001b[1;33m=\u001b[0m \u001b[0msuper\u001b[0m\u001b[1;33m(\u001b[0m\u001b[0mC89CodePrinter\u001b[0m\u001b[1;33m,\u001b[0m \u001b[0mself\u001b[0m\u001b[1;33m)\u001b[0m\u001b[1;33m.\u001b[0m\u001b[0m_print_Symbol\u001b[0m\u001b[1;33m(\u001b[0m\u001b[0mexpr\u001b[0m\u001b[1;33m)\u001b[0m\u001b[1;33m\n",
       "\u001b[0m        \u001b[1;32mif\u001b[0m \u001b[0mexpr\u001b[0m \u001b[1;32min\u001b[0m \u001b[0mself\u001b[0m\u001b[1;33m.\u001b[0m\u001b[0m_settings\u001b[0m\u001b[1;33m[\u001b[0m\u001b[1;34m'dereference'\u001b[0m\u001b[1;33m]\u001b[0m\u001b[1;33m:\u001b[0m\u001b[1;33m\n",
       "\u001b[0m            \u001b[1;32mreturn\u001b[0m \u001b[1;34m'(*{0})'\u001b[0m\u001b[1;33m.\u001b[0m\u001b[0mformat\u001b[0m\u001b[1;33m(\u001b[0m\u001b[0mname\u001b[0m\u001b[1;33m)\u001b[0m\u001b[1;33m\n",
       "\u001b[0m        \u001b[1;32melse\u001b[0m\u001b[1;33m:\u001b[0m\u001b[1;33m\n",
       "\u001b[0m            \u001b[1;32mreturn\u001b[0m \u001b[0mname\u001b[0m\u001b[1;33m\u001b[0m\u001b[1;33m\u001b[0m\u001b[0m\n",
       "\u001b[1;31mFile:\u001b[0m      c:\\users\\zandv\\miniconda3\\envs\\sympy\\lib\\site-packages\\sympy\\printing\\ccode.py\n",
       "\u001b[1;31mType:\u001b[0m      function\n"
      ]
     },
     "metadata": {},
     "output_type": "display_data"
    }
   ],
   "source": [
    "C99CodePrinter._print_Symbol??"
   ]
  },
  {
   "cell_type": "markdown",
   "metadata": {},
   "source": [
    "(Note how there's a class hierarchy of printers, mimicking the way the successive C standards form supersets)\n",
    "\n",
    "Using the above information, we can subclass the C99 printer to do something else for specific sympy objects. Here's a trivial example:"
   ]
  },
  {
   "cell_type": "code",
   "execution_count": 41,
   "metadata": {},
   "outputs": [],
   "source": [
    "class MyCodePrinter(C99CodePrinter):\n",
    "    def _print_Symbol(self, expr):\n",
    "        return self._print(\"I'll always print this text no matter what symbol you pass, lol\")"
   ]
  },
  {
   "cell_type": "code",
   "execution_count": 42,
   "metadata": {},
   "outputs": [],
   "source": [
    "my_printer = MyCodePrinter()"
   ]
  },
  {
   "cell_type": "code",
   "execution_count": 45,
   "metadata": {},
   "outputs": [
    {
     "data": {
      "text/plain": [
       "\"I'll always print this text no matter what symbol you pass, lol\""
      ]
     },
     "execution_count": 45,
     "metadata": {},
     "output_type": "execute_result"
    }
   ],
   "source": [
    "x = sym.symbols('x')\n",
    "my_printer.doprint(x)"
   ]
  },
  {
   "cell_type": "markdown",
   "metadata": {},
   "source": [
    "Note that using self._print() will make recursion on complex expressions work. It dynamic dispatches to specific printers, so if you only printify part of the expression but want to pass subexpressions on to other parsers, this is how you do it. Eventually, specific printers are expected to return a string, which ends the recursion process and unwinds the stack."
   ]
  },
  {
   "cell_type": "code",
   "execution_count": null,
   "metadata": {},
   "outputs": [],
   "source": []
  }
 ],
 "metadata": {
  "kernelspec": {
   "display_name": "Python 3",
   "language": "python",
   "name": "python3"
  },
  "language_info": {
   "codemirror_mode": {
    "name": "ipython",
    "version": 3
   },
   "file_extension": ".py",
   "mimetype": "text/x-python",
   "name": "python",
   "nbconvert_exporter": "python",
   "pygments_lexer": "ipython3",
   "version": "3.7.3"
  }
 },
 "nbformat": 4,
 "nbformat_minor": 4
}
