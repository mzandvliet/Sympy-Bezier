{
 "cells": [
  {
   "cell_type": "code",
   "execution_count": 8,
   "metadata": {},
   "outputs": [],
   "source": [
    "import math\n",
    "from sympy import *\n",
    "\n",
    "init_printing()"
   ]
  },
  {
   "cell_type": "markdown",
   "metadata": {},
   "source": [
    "Let's define some stuff"
   ]
  },
  {
   "cell_type": "code",
   "execution_count": 9,
   "metadata": {},
   "outputs": [],
   "source": [
    "def wave_equation():\n",
    "    x, t, c = symbols('x t c')\n",
    "\n",
    "    u = Function('u')\n",
    "    \n",
    "    wave_eq = Eq(diff(u(t,x), t, t), c**2 * diff(u(t,x), x, 2))\n",
    "    pprint(wave_eq)"
   ]
  },
  {
   "cell_type": "code",
   "execution_count": 14,
   "metadata": {},
   "outputs": [],
   "source": [
    "def wave_equation_2():\n",
    "    x, t, c = symbols('x t c')\n",
    "\n",
    "    u = Function('u')(x, t) # object representing function u evaluated at x and t\n",
    "\n",
    "    wave_eq = Eq(diff(u, t, 2), c**2 * diff(u, x, 2))\n",
    "    pprint(wave_eq)"
   ]
  },
  {
   "cell_type": "code",
   "execution_count": 15,
   "metadata": {},
   "outputs": [],
   "source": [
    "def matrices():\n",
    "    m = Matrix([\n",
    "        [1, 2], # row at top\n",
    "        [3, 4]  # row at bottom\n",
    "    ])\n",
    "\n",
    "    pprint(m)\n",
    "\n",
    "    m = Matrix([1,2,3]) # a column vector\n",
    "\n",
    "    pprint(m)\n",
    "\n",
    "    x, y, z = symbols('x y z')\n",
    "\n",
    "    mat_a = Matrix([\n",
    "        [1, 0, 1],\n",
    "        [-1, 2, 3],\n",
    "        [1, 2, 3]\n",
    "    ])\n",
    "\n",
    "    mat_b = Matrix([x, y, z])\n",
    "\n",
    "    mat_c = mat_a * mat_b\n",
    "    pprint(mat_c)\n",
    "\n",
    "    pprint(mat_c.jacobian([x,y,z]))"
   ]
  },
  {
   "cell_type": "code",
   "execution_count": 10,
   "metadata": {},
   "outputs": [
    {
     "name": "stdout",
     "output_type": "stream",
     "text": [
      "  2                 2         \n",
      " ∂              2  ∂          \n",
      "───(u(t, x)) = c ⋅───(u(t, x))\n",
      "  2                 2         \n",
      "∂t                ∂x          \n"
     ]
    }
   ],
   "source": [
    "wave_equation()"
   ]
  },
  {
   "cell_type": "code",
   "execution_count": 12,
   "metadata": {},
   "outputs": [],
   "source": [
    "x = symbols('x')"
   ]
  },
  {
   "cell_type": "markdown",
   "metadata": {},
   "source": [
    "Using Sympy's lambdify function, we can take symbolic functions and compile them into working python lambdas, which can then be used to evaluate things, or passed into solvers, or whatever you want."
   ]
  },
  {
   "cell_type": "code",
   "execution_count": null,
   "metadata": {},
   "outputs": [],
   "source": []
  }
 ],
 "metadata": {
  "kernelspec": {
   "display_name": "Python 3",
   "language": "python",
   "name": "python3"
  },
  "language_info": {
   "codemirror_mode": {
    "name": "ipython",
    "version": 3
   },
   "file_extension": ".py",
   "mimetype": "text/x-python",
   "name": "python",
   "nbconvert_exporter": "python",
   "pygments_lexer": "ipython3",
   "version": "3.7.3"
  }
 },
 "nbformat": 4,
 "nbformat_minor": 4
}
